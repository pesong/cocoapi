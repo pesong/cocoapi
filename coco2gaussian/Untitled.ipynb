{
 "cells": [
  {
   "cell_type": "code",
   "execution_count": 43,
   "metadata": {},
   "outputs": [],
   "source": [
    "import yaml\n",
    "import os\n",
    "from collections import OrderedDict"
   ]
  },
  {
   "cell_type": "code",
   "execution_count": 47,
   "metadata": {},
   "outputs": [
    {
     "data": {
      "text/plain": [
       "{'construction': {'building': 71, 'wall': 72},\n",
       " 'flat': {'lane markings': 4, 'pavement': 2, 'road': 1, 'sidewalk': 3},\n",
       " 'movable object': {'bicycle': 17,\n",
       "  'bus': 15,\n",
       "  'car': 13,\n",
       "  'motorcycle': 16,\n",
       "  'person': 11,\n",
       "  'rider': 12,\n",
       "  'robot': 18,\n",
       "  'truck': 14},\n",
       " 'nature': {'sky': 61, 'vegetation': 62},\n",
       " 'others': {'others': 0},\n",
       " 'road obstacles': {'fence': 31, 'road_pile': 33, 'traffic_cone': 32},\n",
       " 'roadside object': {'billboard': 25,\n",
       "  'dustbin': 24,\n",
       "  'pole': 21,\n",
       "  'traffic light': 22,\n",
       "  'traffic sign': 23},\n",
       " 'target object': {'carpet': 48,\n",
       "  'chair': 46,\n",
       "  'face': 45,\n",
       "  'garbage': 41,\n",
       "  'ladder': 43,\n",
       "  'pack': 44,\n",
       "  'potted plant': 49,\n",
       "  'slops': 42,\n",
       "  'table': 47}}"
      ]
     },
     "execution_count": 47,
     "metadata": {},
     "output_type": "execute_result"
    }
   ],
   "source": [
    "f = open(r'categories.yml')\n",
    "sqsa = yaml.load(f)\n",
    "sqsa"
   ]
  },
  {
   "cell_type": "code",
   "execution_count": 51,
   "metadata": {},
   "outputs": [
    {
     "name": "stdout",
     "output_type": "stream",
     "text": [
      "target object potted plant 49 1\n",
      "target object face 45 2\n",
      "target object chair 46 3\n",
      "target object carpet 48 4\n",
      "target object table 47 5\n",
      "target object slops 42 6\n",
      "target object pack 44 7\n",
      "target object garbage 41 8\n",
      "target object ladder 43 9\n",
      "flat pavement 2 10\n",
      "flat sidewalk 3 11\n",
      "flat lane markings 4 12\n",
      "flat road 1 13\n",
      "roadside object traffic light 22 14\n",
      "roadside object dustbin 24 15\n",
      "roadside object billboard 25 16\n",
      "roadside object traffic sign 23 17\n",
      "roadside object pole 21 18\n",
      "construction wall 72 19\n",
      "construction building 71 20\n",
      "road obstacles road_pile 33 21\n",
      "road obstacles traffic_cone 32 22\n",
      "road obstacles fence 31 23\n",
      "nature vegetation 62 24\n",
      "nature sky 61 25\n",
      "others others 0 26\n",
      "movable object truck 14 27\n",
      "movable object motorcycle 16 28\n",
      "movable object car 13 29\n",
      "movable object person 11 30\n",
      "movable object robot 18 31\n",
      "movable object rider 12 32\n",
      "movable object bus 15 33\n",
      "movable object bicycle 17 34\n",
      "[{'supercategory': 'target object', 'name': 'potted plant', 'id': 49}, {'supercategory': 'target object', 'name': 'face', 'id': 45}, {'supercategory': 'target object', 'name': 'chair', 'id': 46}, {'supercategory': 'target object', 'name': 'carpet', 'id': 48}, {'supercategory': 'target object', 'name': 'table', 'id': 47}, {'supercategory': 'target object', 'name': 'slops', 'id': 42}, {'supercategory': 'target object', 'name': 'pack', 'id': 44}, {'supercategory': 'target object', 'name': 'garbage', 'id': 41}, {'supercategory': 'target object', 'name': 'ladder', 'id': 43}, {'supercategory': 'flat', 'name': 'pavement', 'id': 2}, {'supercategory': 'flat', 'name': 'sidewalk', 'id': 3}, {'supercategory': 'flat', 'name': 'lane markings', 'id': 4}, {'supercategory': 'flat', 'name': 'road', 'id': 1}, {'supercategory': 'roadside object', 'name': 'traffic light', 'id': 22}, {'supercategory': 'roadside object', 'name': 'dustbin', 'id': 24}, {'supercategory': 'roadside object', 'name': 'billboard', 'id': 25}, {'supercategory': 'roadside object', 'name': 'traffic sign', 'id': 23}, {'supercategory': 'roadside object', 'name': 'pole', 'id': 21}, {'supercategory': 'construction', 'name': 'wall', 'id': 72}, {'supercategory': 'construction', 'name': 'building', 'id': 71}, {'supercategory': 'road obstacles', 'name': 'road_pile', 'id': 33}, {'supercategory': 'road obstacles', 'name': 'traffic_cone', 'id': 32}, {'supercategory': 'road obstacles', 'name': 'fence', 'id': 31}, {'supercategory': 'nature', 'name': 'vegetation', 'id': 62}, {'supercategory': 'nature', 'name': 'sky', 'id': 61}, {'supercategory': 'others', 'name': 'others', 'id': 0}, {'supercategory': 'movable object', 'name': 'truck', 'id': 14}, {'supercategory': 'movable object', 'name': 'motorcycle', 'id': 16}, {'supercategory': 'movable object', 'name': 'car', 'id': 13}, {'supercategory': 'movable object', 'name': 'person', 'id': 11}, {'supercategory': 'movable object', 'name': 'robot', 'id': 18}, {'supercategory': 'movable object', 'name': 'rider', 'id': 12}, {'supercategory': 'movable object', 'name': 'bus', 'id': 15}, {'supercategory': 'movable object', 'name': 'bicycle', 'id': 17}]\n"
     ]
    }
   ],
   "source": [
    "count = 0\n",
    "categories = []\n",
    "for seqId, seqs in sqsa.items():\n",
    "        for name, catid in seqs.items():\n",
    "            count += 1\n",
    "            print(seqId, name, catid, count)\n",
    "            categories.append({\"supercategory\": seqId, \"name\": name, \"id\": catid})\n",
    "\n",
    "print(categories)"
   ]
  },
  {
   "cell_type": "code",
   "execution_count": null,
   "metadata": {},
   "outputs": [],
   "source": []
  }
 ],
 "metadata": {
  "kernelspec": {
   "display_name": "Python 3",
   "language": "python",
   "name": "python3"
  },
  "language_info": {
   "codemirror_mode": {
    "name": "ipython",
    "version": 3
   },
   "file_extension": ".py",
   "mimetype": "text/x-python",
   "name": "python",
   "nbconvert_exporter": "python",
   "pygments_lexer": "ipython3",
   "version": "3.5.2"
  }
 },
 "nbformat": 4,
 "nbformat_minor": 2
}
